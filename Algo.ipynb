{
 "cells": [
  {
   "cell_type": "markdown",
   "metadata": {},
   "source": [
    "## Assignment 03\n",
    "\n",
    "### Course: Desgin and Analysis of Algorithms\n",
    "\n",
    "**By:**\n",
    "* **Roll No:** 22I-1920\n",
    "* **Section:** DS-D"
   ]
  },
  {
   "cell_type": "markdown",
   "metadata": {},
   "source": [
    "#### Task 1: Measure Empirical Time Complexity "
   ]
  },
  {
   "cell_type": "markdown",
   "metadata": {},
   "source": [
    "- Dependices: "
   ]
  },
  {
   "cell_type": "code",
   "execution_count": null,
   "metadata": {},
   "outputs": [],
   "source": [
    "!pip install numpy\n",
    "!pip install plotly\n",
    "!pip install nbformat "
   ]
  },
  {
   "cell_type": "code",
   "execution_count": 3,
   "metadata": {},
   "outputs": [],
   "source": [
    "import numpy as np"
   ]
  },
  {
   "cell_type": "code",
   "execution_count": 4,
   "metadata": {},
   "outputs": [],
   "source": [
    "def insertion_sort(arr):\n",
    "    \"\"\"\n",
    "        para: arr: list of integers\n",
    "        \n",
    "        description: This function sorts the given list of integers using the insertion sort algorithm.\n",
    "        \n",
    "        return: sorted list of integers\n",
    "    \"\"\"\n",
    "    for i in range(1, len(arr)):\n",
    "        key = arr[i]\n",
    "        j = i - 1\n",
    "        while j >= 0 and key < arr[j]:\n",
    "            arr[j + 1] = arr[j]\n",
    "            j -= 1\n",
    "        arr[j + 1] = key\n",
    "    return arr"
   ]
  },
  {
   "cell_type": "code",
   "execution_count": 5,
   "metadata": {},
   "outputs": [],
   "source": [
    "def bubble_sort(arr):\n",
    "    \"\"\"\n",
    "        para: arr: list of integers\n",
    "        \n",
    "        description: This function sorts the given list of integers using the bubble sort algorithm.\n",
    "        \n",
    "        return: sorted list of integers\n",
    "    \"\"\"\n",
    "    n = len(arr)\n",
    "    for i in range(n):\n",
    "        for j in range(0, n - i - 1):\n",
    "            if arr[j] > arr[j + 1]:\n",
    "                arr[j], arr[j + 1] = arr[j + 1], arr[j]\n",
    "    return arr"
   ]
  },
  {
   "cell_type": "code",
   "execution_count": 6,
   "metadata": {},
   "outputs": [],
   "source": [
    "def selection_sort(arr):\n",
    "    \"\"\"\n",
    "    para: list of integers\n",
    "\n",
    "    description: This function sorts the given list of integers using the selection sort algorithm.\n",
    "\n",
    "    returns: sorted list of integers\n",
    "    \"\"\"\n",
    "    n = len(arr)\n",
    "    for i in range(n):\n",
    "        min_idx = i\n",
    "        for j in range(i + 1, n):\n",
    "            if arr[j] < arr[min_idx]:\n",
    "                min_idx = j\n",
    "        arr[i], arr[min_idx] = arr[min_idx], arr[i]\n",
    "    return arr"
   ]
  },
  {
   "cell_type": "code",
   "execution_count": 7,
   "metadata": {},
   "outputs": [],
   "source": [
    "def merge_sort(arr):\n",
    "    \"\"\"\n",
    "    para: arr: list of integers\n",
    "    \n",
    "    description: This function sorts the given list of integers using the merge sort algorithm.\n",
    "    \n",
    "    return: sorted list of integers\n",
    "    \"\"\"\n",
    "    if len(arr) > 1:\n",
    "        mid = len(arr) // 2\n",
    "        left_half = arr[:mid]\n",
    "        right_half = arr[mid:]\n",
    "        \n",
    "        merge_sort(left_half)\n",
    "        merge_sort(right_half)\n",
    "        \n",
    "        i = j = k = 0\n",
    "        \n",
    "        while i < len(left_half) and j < len(right_half):\n",
    "            if left_half[i] < right_half[j]:\n",
    "                arr[k] = left_half[i]\n",
    "                i += 1\n",
    "            else:\n",
    "                arr[k] = right_half[j]\n",
    "                j += 1\n",
    "            k += 1\n",
    "        \n",
    "        while i < len(left_half):\n",
    "            arr[k] = left_half[i]\n",
    "            i += 1\n",
    "            k += 1\n",
    "\n",
    "        while j < len(right_half):\n",
    "            arr[k] = right_half[j]\n",
    "            j += 1\n",
    "            k += 1\n",
    "\n",
    "    return arr\n"
   ]
  },
  {
   "cell_type": "code",
   "execution_count": 8,
   "metadata": {},
   "outputs": [],
   "source": [
    "def quick_sort(arr):\n",
    "    \"\"\"\n",
    "    para: arr: list of integers\n",
    "    \n",
    "    description: This function sorts the given list of integers using the quick sort algorithm.\n",
    "    \n",
    "    return: sorted list of integers\n",
    "    \"\"\"\n",
    "    if len(arr) <= 1:\n",
    "        return arr\n",
    "    else:\n",
    "        pivot = arr[0]\n",
    "        less = [x for x in arr[1:] if x <= pivot]\n",
    "        greater = [x for x in arr[1:] if x > pivot]\n",
    "        return quick_sort(less) + [pivot] + quick_sort(greater)"
   ]
  },
  {
   "cell_type": "code",
   "execution_count": 9,
   "metadata": {},
   "outputs": [],
   "source": [
    "def heapify(arr, n, i):\n",
    "    \"\"\"\n",
    "    para: arr: list of integers\n",
    "          n: integer\n",
    "          i: integer\n",
    "          \n",
    "    description: This function heapifies the given list of integers.\n",
    "    \n",
    "    return: None\n",
    "    \"\"\"\n",
    "    largest = i\n",
    "    left = 2 * i + 1\n",
    "    right = 2 * i + 2\n",
    "\n",
    "    if left < n and arr[i] < arr[left]:\n",
    "        largest = left\n",
    "\n",
    "    if right < n and arr[largest] < arr[right]:\n",
    "        largest = right\n",
    "\n",
    "    if largest != i:\n",
    "        arr[i], arr[largest] = arr[largest], arr[i]\n",
    "        heapify(arr, n, largest)"
   ]
  },
  {
   "cell_type": "code",
   "execution_count": 10,
   "metadata": {},
   "outputs": [],
   "source": [
    "def heap_sort(arr):\n",
    "    \"\"\"\n",
    "    para: arr: list of integers\n",
    "    \n",
    "    description: This function sorts the given list of integers using the heap sort algorithm.\n",
    "    \n",
    "    return: sorted list of integers\n",
    "    \"\"\"\n",
    "    n = len(arr)\n",
    "\n",
    "    for i in range(n // 2 - 1, -1, -1):\n",
    "        heapify(arr, n, i)\n",
    "\n",
    "    for i in range(n - 1, 0, -1):\n",
    "        arr[i], arr[0] = arr[0], arr[i]\n",
    "        heapify(arr, i, 0)\n",
    "    return arr"
   ]
  },
  {
   "cell_type": "code",
   "execution_count": 11,
   "metadata": {},
   "outputs": [],
   "source": [
    "def counting_sort(arr):\n",
    "    \"\"\"\n",
    "    para: arr: list of integers\n",
    "    \n",
    "    description: This function sorts the given list of integers using the counting sort algorithm.\n",
    "    \n",
    "    return: sorted list of integers\n",
    "    \"\"\"\n",
    "    max_val = max(arr)\n",
    "    \n",
    "    count = [0] * (max_val + 1)\n",
    "    \n",
    "    for num in arr:\n",
    "        count[num] += 1\n",
    "    \n",
    "    for i in range(1, len(count)):\n",
    "        count[i] += count[i - 1]\n",
    "    \n",
    "    output = [0] * len(arr)\n",
    "    \n",
    "    for num in reversed(arr):\n",
    "        output[count[num] - 1] = num\n",
    "        count[num] -= 1\n",
    "    \n",
    "    return output\n"
   ]
  },
  {
   "cell_type": "code",
   "execution_count": 12,
   "metadata": {},
   "outputs": [],
   "source": [
    "def counting_sort_for_radix(arr, exp):\n",
    "    \"\"\"\n",
    "    para: arr: list of integers\n",
    "            exp: integer, represent the current digit's place value (units, tens, hundreds, etc.)\n",
    "            \n",
    "    description: This function sorts the given list of integers using the counting sort algorithm for radix sort.\n",
    "    \n",
    "    return: None\n",
    "    \"\"\"\n",
    "    n = len(arr)\n",
    "    \n",
    "    output = [0] * n\n",
    "    \n",
    "    count = [0] * 10\n",
    "    \n",
    "    for i in range(n):\n",
    "        index = arr[i] // exp\n",
    "        count[index % 10] += 1\n",
    "    \n",
    "    for i in range(1, 10):\n",
    "        count[i] += count[i - 1]\n",
    "    \n",
    "    i = n - 1\n",
    "    while i >= 0:\n",
    "        index = arr[i] // exp \n",
    "        output[count[index % 10] - 1] = arr[i]\n",
    "        count[index % 10] -= 1\n",
    "        i -= 1\n",
    "    \n",
    "    for i in range(len(arr)):\n",
    "        arr[i] = output[i]"
   ]
  },
  {
   "cell_type": "code",
   "execution_count": 13,
   "metadata": {},
   "outputs": [],
   "source": [
    "def radix_sort(arr):\n",
    "    \"\"\"\n",
    "    para: arr: list of integers\n",
    "    \n",
    "    description: This function sorts the given list of integers using the radix sort algorithm.\n",
    "    \n",
    "    return: sorted list of integers\n",
    "    \"\"\"\n",
    "    max_val = max(arr)\n",
    "    \n",
    "    exp = 1\n",
    "    while max_val // exp > 0:\n",
    "        counting_sort_for_radix(arr, exp)\n",
    "        exp *= 10\n",
    "    \n",
    "    return arr"
   ]
  },
  {
   "cell_type": "code",
   "execution_count": 14,
   "metadata": {},
   "outputs": [],
   "source": [
    "def bucket_sort(arr):\n",
    "    \"\"\"\n",
    "    para: arr: list of integers\n",
    "    \n",
    "    description: This function sorts the given list of integers using the bucket sort algorithm.\n",
    "    \n",
    "    return: sorted list of integers\n",
    "    \"\"\"\n",
    "    if len(arr) == 0:\n",
    "        return arr\n",
    "\n",
    "    bucket_count = len(arr)\n",
    "    max_value = max(arr)\n",
    "    buckets = [[] for _ in range(bucket_count)]\n",
    "    \n",
    "    for num in arr:\n",
    "        index = int(num * bucket_count / (max_value + 1))\n",
    "        buckets[index].append(num)\n",
    "\n",
    "    for bucket in buckets:\n",
    "        bucket.sort()\n",
    "\n",
    "    sorted_arr = []\n",
    "    for bucket in buckets:\n",
    "        sorted_arr.extend(bucket)\n",
    "\n",
    "    return sorted_arr"
   ]
  },
  {
   "cell_type": "markdown",
   "metadata": {},
   "source": [
    "#### Measuring Empirical Time Complexity of Algorithms: "
   ]
  },
  {
   "cell_type": "code",
   "execution_count": 15,
   "metadata": {},
   "outputs": [],
   "source": [
    "import sys\n",
    "import time"
   ]
  },
  {
   "cell_type": "code",
   "execution_count": 16,
   "metadata": {},
   "outputs": [],
   "source": [
    "sys.setrecursionlimit(100002) "
   ]
  },
  {
   "cell_type": "code",
   "execution_count": 17,
   "metadata": {},
   "outputs": [],
   "source": [
    "def time_sorting_algorithms(size):\n",
    "    time_taken = {}\n",
    "    arr = np.arange(size, 0, -1) # reverse sorted array\n",
    "    \n",
    "    start_time = time.time()\n",
    "    insertion_sort(arr.copy())\n",
    "    time_taken['Insertion Sort'] = (time.time() - start_time) * 1000 \n",
    "    \n",
    "    start_time = time.time()\n",
    "    bubble_sort(arr.copy())\n",
    "    time_taken['Bubble Sort'] = (time.time() - start_time) * 1000\n",
    "    \n",
    "    start_time = time.time()\n",
    "    selection_sort(arr.copy())\n",
    "    time_taken['Selection Sort'] = (time.time() - start_time) * 1000\n",
    "    \n",
    "    start_time = time.time()\n",
    "    merge_sort(arr.copy())\n",
    "    time_taken['Merge Sort'] = (time.time() - start_time) * 1000\n",
    "    \n",
    "    start_time = time.time()\n",
    "    quick_sort(arr.copy())\n",
    "    time_taken['Quick Sort'] = (time.time() - start_time) * 1000\n",
    "    \n",
    "    start_time = time.time()\n",
    "    heap_sort(arr.copy())\n",
    "    time_taken['Heap Sort'] = (time.time() - start_time) * 1000\n",
    "    \n",
    "    start_time = time.time()\n",
    "    counting_sort(arr.copy())\n",
    "    time_taken['Counting Sort'] = (time.time() - start_time) * 1000\n",
    "    \n",
    "    start_time = time.time()\n",
    "    radix_sort(arr.copy())\n",
    "    time_taken['Radix Sort'] = (time.time() - start_time) * 1000\n",
    "    \n",
    "    start_time = time.time()\n",
    "    bucket_sort(arr.copy())\n",
    "    time_taken['Bucket Sort'] = (time.time() - start_time) * 1000\n",
    "\n",
    "    return time_taken\n"
   ]
  },
  {
   "cell_type": "code",
   "execution_count": 18,
   "metadata": {},
   "outputs": [
    {
     "name": "stdout",
     "output_type": "stream",
     "text": [
      "Size: 100\n",
      "Time taken by each sorting algorithm (in ms):\n",
      "Insertion Sort: 1.00\n",
      "Bubble Sort: 3.52\n",
      "Selection Sort: 1.01\n",
      "Merge Sort: 0.99\n",
      "Quick Sort: 1.00\n",
      "Heap Sort: 1.01\n",
      "Counting Sort: 0.00\n",
      "Radix Sort: 0.00\n",
      "Bucket Sort: 0.00\n",
      "\n"
     ]
    }
   ],
   "source": [
    "size = 100\n",
    "\n",
    "time_taken_100 = time_sorting_algorithms(size)\n",
    "\n",
    "print(f\"Size: {size}\")\n",
    "print(\"Time taken by each sorting algorithm (in ms):\")\n",
    "for key, value in time_taken_100.items():\n",
    "    print(f\"{key}: {value:.2f}\")\n",
    "print()"
   ]
  },
  {
   "cell_type": "code",
   "execution_count": 19,
   "metadata": {},
   "outputs": [
    {
     "name": "stdout",
     "output_type": "stream",
     "text": [
      "Size: 500\n",
      "Time taken by each sorting algorithm (in ms):\n",
      "Insertion Sort: 49.66\n",
      "Bubble Sort: 67.19\n",
      "Selection Sort: 19.07\n",
      "Merge Sort: 1.09\n",
      "Quick Sort: 16.00\n",
      "Heap Sort: 2.00\n",
      "Counting Sort: 0.00\n",
      "Radix Sort: 2.56\n",
      "Bucket Sort: 0.00\n",
      "\n"
     ]
    }
   ],
   "source": [
    "size = 500\n",
    "\n",
    "time_taken_500 = time_sorting_algorithms(size)\n",
    "\n",
    "print(f\"Size: {size}\")\n",
    "print(\"Time taken by each sorting algorithm (in ms):\")\n",
    "for key, value in time_taken_500.items():\n",
    "    print(f\"{key}: {value:.2f}\")\n",
    "print()"
   ]
  },
  {
   "cell_type": "code",
   "execution_count": 20,
   "metadata": {},
   "outputs": [
    {
     "name": "stdout",
     "output_type": "stream",
     "text": [
      "Size: 1000\n",
      "Time taken by each sorting algorithm (in ms):\n",
      "Insertion Sort: 172.87\n",
      "Bubble Sort: 346.12\n",
      "Selection Sort: 99.88\n",
      "Merge Sort: 3.00\n",
      "Quick Sort: 45.99\n",
      "Heap Sort: 5.05\n",
      "Counting Sort: 0.00\n",
      "Radix Sort: 3.55\n",
      "Bucket Sort: 0.00\n",
      "\n"
     ]
    }
   ],
   "source": [
    "size = 1000\n",
    "\n",
    "time_taken_1000 = time_sorting_algorithms(size)\n",
    "\n",
    "print(f\"Size: {size}\")\n",
    "print(\"Time taken by each sorting algorithm (in ms):\")\n",
    "for key, value in time_taken_1000.items():\n",
    "    print(f\"{key}: {value:.2f}\")\n",
    "print()"
   ]
  },
  {
   "cell_type": "code",
   "execution_count": 21,
   "metadata": {},
   "outputs": [
    {
     "name": "stdout",
     "output_type": "stream",
     "text": [
      "Size: 5000\n",
      "Time taken by each sorting algorithm (in ms):\n",
      "Insertion Sort: 3780.51\n",
      "Bubble Sort: 6386.04\n",
      "Selection Sort: 1883.20\n",
      "Merge Sort: 18.12\n",
      "Quick Sort: 976.75\n",
      "Heap Sort: 36.81\n",
      "Counting Sort: 1.92\n",
      "Radix Sort: 13.16\n",
      "Bucket Sort: 2.54\n",
      "\n"
     ]
    }
   ],
   "source": [
    "size = 5000\n",
    "\n",
    "time_taken_5000 = time_sorting_algorithms(size)\n",
    "\n",
    "print(f\"Size: {size}\")\n",
    "print(\"Time taken by each sorting algorithm (in ms):\")\n",
    "for key, value in time_taken_5000.items():\n",
    "    print(f\"{key}: {value:.2f}\")\n",
    "print()"
   ]
  },
  {
   "cell_type": "code",
   "execution_count": 22,
   "metadata": {},
   "outputs": [
    {
     "name": "stdout",
     "output_type": "stream",
     "text": [
      "Size: 10000\n",
      "Time taken by each sorting algorithm (in ms):\n",
      "Insertion Sort: 13575.79\n",
      "Bubble Sort: 37948.96\n",
      "Selection Sort: 7958.25\n",
      "Merge Sort: 42.78\n",
      "Quick Sort: 4648.45\n",
      "Heap Sort: 85.79\n",
      "Counting Sort: 5.00\n",
      "Radix Sort: 36.29\n",
      "Bucket Sort: 5.51\n",
      "\n"
     ]
    }
   ],
   "source": [
    "size = 10000\n",
    "\n",
    "time_taken_10000 = time_sorting_algorithms(size)\n",
    "\n",
    "print(f\"Size: {size}\")\n",
    "print(\"Time taken by each sorting algorithm (in ms):\")\n",
    "for key, value in time_taken_10000.items():\n",
    "    print(f\"{key}: {value:.2f}\")\n",
    "print()"
   ]
  },
  {
   "cell_type": "code",
   "execution_count": 44,
   "metadata": {},
   "outputs": [
    {
     "name": "stdout",
     "output_type": "stream",
     "text": [
      "Size: 50000\n",
      "Time taken by each sorting algorithm (in ms):\n",
      "Insertion Sort: 373984.37\n",
      "Bubble Sort: 645854.65\n",
      "Selection Sort: 188104.11\n",
      "Merge Sort: 230.01\n",
      "Quick Sort: 136441.46\n",
      "Heap Sort: 460.00\n",
      "Counting Sort: 21.00\n",
      "Radix Sort: 166.00\n",
      "Bucket Sort: 57.92\n",
      "\n"
     ]
    }
   ],
   "source": [
    "size = 50000\n",
    "\n",
    "time_taken_50000 = time_sorting_algorithms(size)\n",
    "\n",
    "print(f\"Size: {size}\")\n",
    "print(\"Time taken by each sorting algorithm (in ms):\")\n",
    "for key, value in time_taken_50000.items():\n",
    "    print(f\"{key}: {value:.2f}\")\n",
    "print()\n"
   ]
  },
  {
   "cell_type": "code",
   "execution_count": null,
   "metadata": {},
   "outputs": [],
   "source": [
    "# size 100000\n",
    "size = 100000\n",
    "\n",
    "time_taken_100000 = time_sorting_algorithms(size)\n",
    "\n",
    "print(f\"Size: {size}\")\n",
    "print(\"Time taken by each sorting algorithm (in ms):\")\n",
    "for key, value in time_taken_100000.items():\n",
    "    print(f\"{key}: {value:.2f}\")\n",
    "print()"
   ]
  },
  {
   "cell_type": "markdown",
   "metadata": {},
   "source": [
    "#### PART 2: Visualizing the Empirical Time Complexity of Algorithms"
   ]
  },
  {
   "cell_type": "code",
   "execution_count": 31,
   "metadata": {},
   "outputs": [],
   "source": [
    "import plotly.graph_objects as go"
   ]
  },
  {
   "cell_type": "code",
   "execution_count": 32,
   "metadata": {},
   "outputs": [
    {
     "data": {
      "application/vnd.plotly.v1+json": {
       "config": {
        "plotlyServerURL": "https://plot.ly"
       },
       "data": [
        {
         "mode": "lines+markers",
         "name": "Insertion Sort",
         "type": "scatter",
         "x": [
          100,
          500,
          1000,
          5000,
          10000
         ],
         "y": [
          1.0001659393310547,
          49.65543746948242,
          172.87302017211914,
          3780.513048171997,
          13575.793266296387
         ]
        },
        {
         "mode": "lines+markers",
         "name": "Bubble Sort",
         "type": "scatter",
         "x": [
          100,
          500,
          1000,
          5000,
          10000
         ],
         "y": [
          3.5219192504882812,
          67.18778610229492,
          346.1184501647949,
          6386.03949546814,
          37948.95529747009
         ]
        },
        {
         "mode": "lines+markers",
         "name": "Selection Sort",
         "type": "scatter",
         "x": [
          100,
          500,
          1000,
          5000,
          10000
         ],
         "y": [
          1.0085105895996094,
          19.071102142333984,
          99.88260269165039,
          1883.199691772461,
          7958.250999450684
         ]
        },
        {
         "mode": "lines+markers",
         "name": "Merge Sort",
         "type": "scatter",
         "x": [
          100,
          500,
          1000,
          5000,
          10000
         ],
         "y": [
          0.9915828704833984,
          1.0941028594970703,
          3.000020980834961,
          18.12005043029785,
          42.77944564819336
         ]
        },
        {
         "mode": "lines+markers",
         "name": "Quick Sort",
         "type": "scatter",
         "x": [
          100,
          500,
          1000,
          5000,
          10000
         ],
         "y": [
          0.9999275207519531,
          16.000986099243164,
          45.98569869995117,
          976.7508506774902,
          4648.44536781311
         ]
        },
        {
         "mode": "lines+markers",
         "name": "Heap Sort",
         "type": "scatter",
         "x": [
          100,
          500,
          1000,
          5000,
          10000
         ],
         "y": [
          1.0142326354980469,
          1.9998550415039062,
          5.047798156738281,
          36.80539131164551,
          85.7858657836914
         ]
        },
        {
         "mode": "lines+markers",
         "name": "Counting Sort",
         "type": "scatter",
         "x": [
          100,
          500,
          1000,
          5000,
          10000
         ],
         "y": [
          0,
          0,
          0,
          1.9207000732421875,
          5.002260208129883
         ]
        },
        {
         "mode": "lines+markers",
         "name": "Radix Sort",
         "type": "scatter",
         "x": [
          100,
          500,
          1000,
          5000,
          10000
         ],
         "y": [
          0,
          2.5587081909179688,
          3.5467147827148438,
          13.16213607788086,
          36.2858772277832
         ]
        },
        {
         "mode": "lines+markers",
         "name": "Bucket Sort",
         "type": "scatter",
         "x": [
          100,
          500,
          1000,
          5000,
          10000
         ],
         "y": [
          0,
          0,
          0,
          2.5396347045898438,
          5.507707595825195
         ]
        }
       ],
       "layout": {
        "template": {
         "data": {
          "bar": [
           {
            "error_x": {
             "color": "#2a3f5f"
            },
            "error_y": {
             "color": "#2a3f5f"
            },
            "marker": {
             "line": {
              "color": "#E5ECF6",
              "width": 0.5
             },
             "pattern": {
              "fillmode": "overlay",
              "size": 10,
              "solidity": 0.2
             }
            },
            "type": "bar"
           }
          ],
          "barpolar": [
           {
            "marker": {
             "line": {
              "color": "#E5ECF6",
              "width": 0.5
             },
             "pattern": {
              "fillmode": "overlay",
              "size": 10,
              "solidity": 0.2
             }
            },
            "type": "barpolar"
           }
          ],
          "carpet": [
           {
            "aaxis": {
             "endlinecolor": "#2a3f5f",
             "gridcolor": "white",
             "linecolor": "white",
             "minorgridcolor": "white",
             "startlinecolor": "#2a3f5f"
            },
            "baxis": {
             "endlinecolor": "#2a3f5f",
             "gridcolor": "white",
             "linecolor": "white",
             "minorgridcolor": "white",
             "startlinecolor": "#2a3f5f"
            },
            "type": "carpet"
           }
          ],
          "choropleth": [
           {
            "colorbar": {
             "outlinewidth": 0,
             "ticks": ""
            },
            "type": "choropleth"
           }
          ],
          "contour": [
           {
            "colorbar": {
             "outlinewidth": 0,
             "ticks": ""
            },
            "colorscale": [
             [
              0,
              "#0d0887"
             ],
             [
              0.1111111111111111,
              "#46039f"
             ],
             [
              0.2222222222222222,
              "#7201a8"
             ],
             [
              0.3333333333333333,
              "#9c179e"
             ],
             [
              0.4444444444444444,
              "#bd3786"
             ],
             [
              0.5555555555555556,
              "#d8576b"
             ],
             [
              0.6666666666666666,
              "#ed7953"
             ],
             [
              0.7777777777777778,
              "#fb9f3a"
             ],
             [
              0.8888888888888888,
              "#fdca26"
             ],
             [
              1,
              "#f0f921"
             ]
            ],
            "type": "contour"
           }
          ],
          "contourcarpet": [
           {
            "colorbar": {
             "outlinewidth": 0,
             "ticks": ""
            },
            "type": "contourcarpet"
           }
          ],
          "heatmap": [
           {
            "colorbar": {
             "outlinewidth": 0,
             "ticks": ""
            },
            "colorscale": [
             [
              0,
              "#0d0887"
             ],
             [
              0.1111111111111111,
              "#46039f"
             ],
             [
              0.2222222222222222,
              "#7201a8"
             ],
             [
              0.3333333333333333,
              "#9c179e"
             ],
             [
              0.4444444444444444,
              "#bd3786"
             ],
             [
              0.5555555555555556,
              "#d8576b"
             ],
             [
              0.6666666666666666,
              "#ed7953"
             ],
             [
              0.7777777777777778,
              "#fb9f3a"
             ],
             [
              0.8888888888888888,
              "#fdca26"
             ],
             [
              1,
              "#f0f921"
             ]
            ],
            "type": "heatmap"
           }
          ],
          "heatmapgl": [
           {
            "colorbar": {
             "outlinewidth": 0,
             "ticks": ""
            },
            "colorscale": [
             [
              0,
              "#0d0887"
             ],
             [
              0.1111111111111111,
              "#46039f"
             ],
             [
              0.2222222222222222,
              "#7201a8"
             ],
             [
              0.3333333333333333,
              "#9c179e"
             ],
             [
              0.4444444444444444,
              "#bd3786"
             ],
             [
              0.5555555555555556,
              "#d8576b"
             ],
             [
              0.6666666666666666,
              "#ed7953"
             ],
             [
              0.7777777777777778,
              "#fb9f3a"
             ],
             [
              0.8888888888888888,
              "#fdca26"
             ],
             [
              1,
              "#f0f921"
             ]
            ],
            "type": "heatmapgl"
           }
          ],
          "histogram": [
           {
            "marker": {
             "pattern": {
              "fillmode": "overlay",
              "size": 10,
              "solidity": 0.2
             }
            },
            "type": "histogram"
           }
          ],
          "histogram2d": [
           {
            "colorbar": {
             "outlinewidth": 0,
             "ticks": ""
            },
            "colorscale": [
             [
              0,
              "#0d0887"
             ],
             [
              0.1111111111111111,
              "#46039f"
             ],
             [
              0.2222222222222222,
              "#7201a8"
             ],
             [
              0.3333333333333333,
              "#9c179e"
             ],
             [
              0.4444444444444444,
              "#bd3786"
             ],
             [
              0.5555555555555556,
              "#d8576b"
             ],
             [
              0.6666666666666666,
              "#ed7953"
             ],
             [
              0.7777777777777778,
              "#fb9f3a"
             ],
             [
              0.8888888888888888,
              "#fdca26"
             ],
             [
              1,
              "#f0f921"
             ]
            ],
            "type": "histogram2d"
           }
          ],
          "histogram2dcontour": [
           {
            "colorbar": {
             "outlinewidth": 0,
             "ticks": ""
            },
            "colorscale": [
             [
              0,
              "#0d0887"
             ],
             [
              0.1111111111111111,
              "#46039f"
             ],
             [
              0.2222222222222222,
              "#7201a8"
             ],
             [
              0.3333333333333333,
              "#9c179e"
             ],
             [
              0.4444444444444444,
              "#bd3786"
             ],
             [
              0.5555555555555556,
              "#d8576b"
             ],
             [
              0.6666666666666666,
              "#ed7953"
             ],
             [
              0.7777777777777778,
              "#fb9f3a"
             ],
             [
              0.8888888888888888,
              "#fdca26"
             ],
             [
              1,
              "#f0f921"
             ]
            ],
            "type": "histogram2dcontour"
           }
          ],
          "mesh3d": [
           {
            "colorbar": {
             "outlinewidth": 0,
             "ticks": ""
            },
            "type": "mesh3d"
           }
          ],
          "parcoords": [
           {
            "line": {
             "colorbar": {
              "outlinewidth": 0,
              "ticks": ""
             }
            },
            "type": "parcoords"
           }
          ],
          "pie": [
           {
            "automargin": true,
            "type": "pie"
           }
          ],
          "scatter": [
           {
            "fillpattern": {
             "fillmode": "overlay",
             "size": 10,
             "solidity": 0.2
            },
            "type": "scatter"
           }
          ],
          "scatter3d": [
           {
            "line": {
             "colorbar": {
              "outlinewidth": 0,
              "ticks": ""
             }
            },
            "marker": {
             "colorbar": {
              "outlinewidth": 0,
              "ticks": ""
             }
            },
            "type": "scatter3d"
           }
          ],
          "scattercarpet": [
           {
            "marker": {
             "colorbar": {
              "outlinewidth": 0,
              "ticks": ""
             }
            },
            "type": "scattercarpet"
           }
          ],
          "scattergeo": [
           {
            "marker": {
             "colorbar": {
              "outlinewidth": 0,
              "ticks": ""
             }
            },
            "type": "scattergeo"
           }
          ],
          "scattergl": [
           {
            "marker": {
             "colorbar": {
              "outlinewidth": 0,
              "ticks": ""
             }
            },
            "type": "scattergl"
           }
          ],
          "scattermapbox": [
           {
            "marker": {
             "colorbar": {
              "outlinewidth": 0,
              "ticks": ""
             }
            },
            "type": "scattermapbox"
           }
          ],
          "scatterpolar": [
           {
            "marker": {
             "colorbar": {
              "outlinewidth": 0,
              "ticks": ""
             }
            },
            "type": "scatterpolar"
           }
          ],
          "scatterpolargl": [
           {
            "marker": {
             "colorbar": {
              "outlinewidth": 0,
              "ticks": ""
             }
            },
            "type": "scatterpolargl"
           }
          ],
          "scatterternary": [
           {
            "marker": {
             "colorbar": {
              "outlinewidth": 0,
              "ticks": ""
             }
            },
            "type": "scatterternary"
           }
          ],
          "surface": [
           {
            "colorbar": {
             "outlinewidth": 0,
             "ticks": ""
            },
            "colorscale": [
             [
              0,
              "#0d0887"
             ],
             [
              0.1111111111111111,
              "#46039f"
             ],
             [
              0.2222222222222222,
              "#7201a8"
             ],
             [
              0.3333333333333333,
              "#9c179e"
             ],
             [
              0.4444444444444444,
              "#bd3786"
             ],
             [
              0.5555555555555556,
              "#d8576b"
             ],
             [
              0.6666666666666666,
              "#ed7953"
             ],
             [
              0.7777777777777778,
              "#fb9f3a"
             ],
             [
              0.8888888888888888,
              "#fdca26"
             ],
             [
              1,
              "#f0f921"
             ]
            ],
            "type": "surface"
           }
          ],
          "table": [
           {
            "cells": {
             "fill": {
              "color": "#EBF0F8"
             },
             "line": {
              "color": "white"
             }
            },
            "header": {
             "fill": {
              "color": "#C8D4E3"
             },
             "line": {
              "color": "white"
             }
            },
            "type": "table"
           }
          ]
         },
         "layout": {
          "annotationdefaults": {
           "arrowcolor": "#2a3f5f",
           "arrowhead": 0,
           "arrowwidth": 1
          },
          "autotypenumbers": "strict",
          "coloraxis": {
           "colorbar": {
            "outlinewidth": 0,
            "ticks": ""
           }
          },
          "colorscale": {
           "diverging": [
            [
             0,
             "#8e0152"
            ],
            [
             0.1,
             "#c51b7d"
            ],
            [
             0.2,
             "#de77ae"
            ],
            [
             0.3,
             "#f1b6da"
            ],
            [
             0.4,
             "#fde0ef"
            ],
            [
             0.5,
             "#f7f7f7"
            ],
            [
             0.6,
             "#e6f5d0"
            ],
            [
             0.7,
             "#b8e186"
            ],
            [
             0.8,
             "#7fbc41"
            ],
            [
             0.9,
             "#4d9221"
            ],
            [
             1,
             "#276419"
            ]
           ],
           "sequential": [
            [
             0,
             "#0d0887"
            ],
            [
             0.1111111111111111,
             "#46039f"
            ],
            [
             0.2222222222222222,
             "#7201a8"
            ],
            [
             0.3333333333333333,
             "#9c179e"
            ],
            [
             0.4444444444444444,
             "#bd3786"
            ],
            [
             0.5555555555555556,
             "#d8576b"
            ],
            [
             0.6666666666666666,
             "#ed7953"
            ],
            [
             0.7777777777777778,
             "#fb9f3a"
            ],
            [
             0.8888888888888888,
             "#fdca26"
            ],
            [
             1,
             "#f0f921"
            ]
           ],
           "sequentialminus": [
            [
             0,
             "#0d0887"
            ],
            [
             0.1111111111111111,
             "#46039f"
            ],
            [
             0.2222222222222222,
             "#7201a8"
            ],
            [
             0.3333333333333333,
             "#9c179e"
            ],
            [
             0.4444444444444444,
             "#bd3786"
            ],
            [
             0.5555555555555556,
             "#d8576b"
            ],
            [
             0.6666666666666666,
             "#ed7953"
            ],
            [
             0.7777777777777778,
             "#fb9f3a"
            ],
            [
             0.8888888888888888,
             "#fdca26"
            ],
            [
             1,
             "#f0f921"
            ]
           ]
          },
          "colorway": [
           "#636efa",
           "#EF553B",
           "#00cc96",
           "#ab63fa",
           "#FFA15A",
           "#19d3f3",
           "#FF6692",
           "#B6E880",
           "#FF97FF",
           "#FECB52"
          ],
          "font": {
           "color": "#2a3f5f"
          },
          "geo": {
           "bgcolor": "white",
           "lakecolor": "white",
           "landcolor": "#E5ECF6",
           "showlakes": true,
           "showland": true,
           "subunitcolor": "white"
          },
          "hoverlabel": {
           "align": "left"
          },
          "hovermode": "closest",
          "mapbox": {
           "style": "light"
          },
          "paper_bgcolor": "white",
          "plot_bgcolor": "#E5ECF6",
          "polar": {
           "angularaxis": {
            "gridcolor": "white",
            "linecolor": "white",
            "ticks": ""
           },
           "bgcolor": "#E5ECF6",
           "radialaxis": {
            "gridcolor": "white",
            "linecolor": "white",
            "ticks": ""
           }
          },
          "scene": {
           "xaxis": {
            "backgroundcolor": "#E5ECF6",
            "gridcolor": "white",
            "gridwidth": 2,
            "linecolor": "white",
            "showbackground": true,
            "ticks": "",
            "zerolinecolor": "white"
           },
           "yaxis": {
            "backgroundcolor": "#E5ECF6",
            "gridcolor": "white",
            "gridwidth": 2,
            "linecolor": "white",
            "showbackground": true,
            "ticks": "",
            "zerolinecolor": "white"
           },
           "zaxis": {
            "backgroundcolor": "#E5ECF6",
            "gridcolor": "white",
            "gridwidth": 2,
            "linecolor": "white",
            "showbackground": true,
            "ticks": "",
            "zerolinecolor": "white"
           }
          },
          "shapedefaults": {
           "line": {
            "color": "#2a3f5f"
           }
          },
          "ternary": {
           "aaxis": {
            "gridcolor": "white",
            "linecolor": "white",
            "ticks": ""
           },
           "baxis": {
            "gridcolor": "white",
            "linecolor": "white",
            "ticks": ""
           },
           "bgcolor": "#E5ECF6",
           "caxis": {
            "gridcolor": "white",
            "linecolor": "white",
            "ticks": ""
           }
          },
          "title": {
           "x": 0.05
          },
          "xaxis": {
           "automargin": true,
           "gridcolor": "white",
           "linecolor": "white",
           "ticks": "",
           "title": {
            "standoff": 15
           },
           "zerolinecolor": "white",
           "zerolinewidth": 2
          },
          "yaxis": {
           "automargin": true,
           "gridcolor": "white",
           "linecolor": "white",
           "ticks": "",
           "title": {
            "standoff": 15
           },
           "zerolinecolor": "white",
           "zerolinewidth": 2
          }
         }
        },
        "title": {
         "text": "Time taken by different sorting algorithms for different sizes of input"
        },
        "xaxis": {
         "title": {
          "text": "Size of input"
         }
        },
        "yaxis": {
         "title": {
          "text": "Time taken (in ms)"
         }
        }
       }
      }
     },
     "metadata": {},
     "output_type": "display_data"
    }
   ],
   "source": [
    "sizes = [100, 500, 1000, 5000, 10000]\n",
    "\n",
    "fig = go.Figure()\n",
    "\n",
    "for key in time_taken_100.keys():\n",
    "    y = []\n",
    "    for size in sizes:\n",
    "        y.append(globals()[f'time_taken_{size}'][key])\n",
    "    fig.add_trace(go.Scatter(x=sizes, y=y, mode='lines+markers', name=key))\n",
    "\n",
    "fig.update_layout(title='Time taken by different sorting algorithms for different sizes of input',\n",
    "                  xaxis_title='Size of input',\n",
    "                  yaxis_title='Time taken (in ms)')\n",
    "fig.show()"
   ]
  }
 ],
 "metadata": {
  "kernelspec": {
   "display_name": ".venv",
   "language": "python",
   "name": "python3"
  },
  "language_info": {
   "codemirror_mode": {
    "name": "ipython",
    "version": 3
   },
   "file_extension": ".py",
   "mimetype": "text/x-python",
   "name": "python",
   "nbconvert_exporter": "python",
   "pygments_lexer": "ipython3",
   "version": "3.12.3"
  }
 },
 "nbformat": 4,
 "nbformat_minor": 2
}
